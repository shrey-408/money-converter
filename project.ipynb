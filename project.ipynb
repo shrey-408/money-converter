{
  "nbformat": 4,
  "nbformat_minor": 0,
  "metadata": {
    "colab": {
      "provenance": [],
      "authorship_tag": "ABX9TyN0bJOXpkXZUYKxpw/y79Jw",
      "include_colab_link": true
    },
    "kernelspec": {
      "name": "python3",
      "display_name": "Python 3"
    },
    "language_info": {
      "name": "python"
    }
  },
  "cells": [
    {
      "cell_type": "markdown",
      "metadata": {
        "id": "view-in-github",
        "colab_type": "text"
      },
      "source": [
        "<a href=\"https://colab.research.google.com/github/shrey-408/money-converter/blob/main/project.ipynb\" target=\"_parent\"><img src=\"https://colab.research.google.com/assets/colab-badge.svg\" alt=\"Open In Colab\"/></a>"
      ]
    },
    {
      "cell_type": "code",
      "source": [
        "# Install requests if not already installed\n",
        "!pip install requests\n",
        "\n",
        "# Import the required libraries\n",
        "import requests\n",
        "\n",
        "# Function to fetch real-time exchange rates\n",
        "def get_exchange_rate(api_key, from_currency, to_currency):\n",
        "    # Updated URL with the correct API endpoint for free-tier users\n",
        "    url = f\"https://v6.exchangerate-api.com/v6/{api_key}/pair/{from_currency}/{to_currency}\"\n",
        "\n",
        "    # Send request to the API\n",
        "    response = requests.get(url)\n",
        "\n",
        "    # Check if the request was successful\n",
        "    if response.status_code == 200:\n",
        "        data = response.json()\n",
        "        return data['conversion_rate']  # Fetch conversion rate directly from the response\n",
        "    else:\n",
        "        print(f\"Error: Unable to fetch data. Status code: {response.status_code}\")\n",
        "        return None\n",
        "\n",
        "# Function to convert currency\n",
        "def convert_currency(api_key, from_currency, to_currency, amount):\n",
        "    rate = get_exchange_rate(api_key, from_currency, to_currency)\n",
        "\n",
        "    if rate is not None:\n",
        "        converted_amount = amount * rate\n",
        "        return converted_amount\n",
        "    else:\n",
        "        return None\n",
        "\n",
        "# Main program\n",
        "def main():\n",
        "    api_key = \"5f044286fdf3ccf8ad2e8b7a\"  # Get your free API key from https://www.exchangerate-api.com/\n",
        "\n",
        "    print(\"Welcome to the Real-Time Currency Converter!\")\n",
        "\n",
        "    # Get user inputs\n",
        "    from_currency = input(\"Enter the base currency (e.g., USD): \").upper()\n",
        "    to_currency = input(\"Enter the target currency (e.g., EUR): \").upper()\n",
        "    amount = float(input(f\"Enter the amount in {from_currency}: \"))\n",
        "\n",
        "    # Perform conversion\n",
        "    converted_amount = convert_currency(api_key, from_currency, to_currency, amount)\n",
        "\n",
        "    if converted_amount is not None:\n",
        "        print(f\"{amount} {from_currency} is equal to {converted_amount:.2f} {to_currency}.\")\n",
        "    else:\n",
        "        print(\"Conversion failed. Please try again.\")\n",
        "\n",
        "# Run the main function\n",
        "if __name__ == \"__main__\":\n",
        "    main()\n"
      ],
      "metadata": {
        "colab": {
          "base_uri": "https://localhost:8080/"
        },
        "id": "ncZmjpn55Tvw",
        "outputId": "e8fa3568-c402-43e9-fa7a-19e21232a415"
      },
      "execution_count": 3,
      "outputs": [
        {
          "output_type": "stream",
          "name": "stdout",
          "text": [
            "Requirement already satisfied: requests in /usr/local/lib/python3.10/dist-packages (2.32.3)\n",
            "Requirement already satisfied: charset-normalizer<4,>=2 in /usr/local/lib/python3.10/dist-packages (from requests) (3.4.0)\n",
            "Requirement already satisfied: idna<4,>=2.5 in /usr/local/lib/python3.10/dist-packages (from requests) (3.10)\n",
            "Requirement already satisfied: urllib3<3,>=1.21.1 in /usr/local/lib/python3.10/dist-packages (from requests) (2.2.3)\n",
            "Requirement already satisfied: certifi>=2017.4.17 in /usr/local/lib/python3.10/dist-packages (from requests) (2024.8.30)\n",
            "Welcome to the Real-Time Currency Converter!\n",
            "Enter the base currency (e.g., USD): usd\n",
            "Enter the target currency (e.g., EUR): eur\n",
            "Enter the amount in USD: 1\n",
            "1.0 USD is equal to 0.95 EUR.\n"
          ]
        }
      ]
    },
    {
      "cell_type": "code",
      "source": [],
      "metadata": {
        "id": "64MP6vv5CLBP"
      },
      "execution_count": null,
      "outputs": []
    }
  ]
}